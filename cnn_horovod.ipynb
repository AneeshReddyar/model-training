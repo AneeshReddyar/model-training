{
  "cells": [
    {
      "cell_type": "code",
      "execution_count": null,
      "metadata": {
        "colab": {
          "base_uri": "https://localhost:8080/"
        },
        "id": "qukqR9ZxCaz3",
        "outputId": "12d9255d-1776-4a40-c737-d1696b4907a2"
      },
      "outputs": [
        {
          "output_type": "stream",
          "name": "stdout",
          "text": [
            "Collecting horovod\n",
            "  Downloading horovod-0.28.1.tar.gz (3.5 MB)\n",
            "\u001b[?25l     \u001b[90m━━━━━━━━━━━━━━━━━━━━━━━━━━━━━━━━━━━━━━━━\u001b[0m \u001b[32m0.0/3.5 MB\u001b[0m \u001b[31m?\u001b[0m eta \u001b[36m-:--:--\u001b[0m\r\u001b[2K     \u001b[91m━━━━━━━━━━━━━━━━━━━━━━━━━━━\u001b[0m\u001b[91m╸\u001b[0m\u001b[90m━━━━━━━━━━━━\u001b[0m \u001b[32m2.4/3.5 MB\u001b[0m \u001b[31m72.8 MB/s\u001b[0m eta \u001b[36m0:00:01\u001b[0m\r\u001b[2K     \u001b[90m━━━━━━━━━━━━━━━━━━━━━━━━━━━━━━━━━━━━━━━━\u001b[0m \u001b[32m3.5/3.5 MB\u001b[0m \u001b[31m61.2 MB/s\u001b[0m eta \u001b[36m0:00:00\u001b[0m\n",
            "\u001b[?25h  Preparing metadata (setup.py) ... \u001b[?25l\u001b[?25hdone\n",
            "Requirement already satisfied: cloudpickle in /usr/local/lib/python3.10/dist-packages (from horovod) (2.2.1)\n",
            "Requirement already satisfied: psutil in /usr/local/lib/python3.10/dist-packages (from horovod) (5.9.5)\n",
            "Requirement already satisfied: pyyaml in /usr/local/lib/python3.10/dist-packages (from horovod) (6.0)\n",
            "Requirement already satisfied: packaging in /usr/local/lib/python3.10/dist-packages (from horovod) (23.1)\n",
            "Requirement already satisfied: cffi>=1.4.0 in /usr/local/lib/python3.10/dist-packages (from horovod) (1.15.1)\n",
            "Requirement already satisfied: pycparser in /usr/local/lib/python3.10/dist-packages (from cffi>=1.4.0->horovod) (2.21)\n",
            "Building wheels for collected packages: horovod\n",
            "  Building wheel for horovod (setup.py) ... \u001b[?25l\u001b[?25hdone\n",
            "  Created wheel for horovod: filename=horovod-0.28.1-cp310-cp310-linux_x86_64.whl size=41445854 sha256=de55478aec8c5175b96b3fa19cb0d19078dfce48ebb15281ee7081589f2b43c4\n",
            "  Stored in directory: /root/.cache/pip/wheels/68/48/5f/ebbf9b83e04c68070cf9621e6466c33d698efb747d7920b81f\n",
            "Successfully built horovod\n",
            "Installing collected packages: horovod\n",
            "Successfully installed horovod-0.28.1\n"
          ]
        }
      ],
      "source": [
        "pip install horovod"
      ]
    },
    {
      "cell_type": "code",
      "execution_count": null,
      "metadata": {
        "id": "qfSSyN7AE0FO",
        "colab": {
          "base_uri": "https://localhost:8080/"
        },
        "outputId": "c068f9b3-4576-43ac-88c5-f7bfe0303793"
      },
      "outputs": [
        {
          "output_type": "stream",
          "name": "stdout",
          "text": [
            "Mounted at /content/drive\n"
          ]
        }
      ],
      "source": [
        "from google.colab import drive\n",
        "drive.mount('/content/drive')"
      ]
    },
    {
      "cell_type": "code",
      "execution_count": null,
      "metadata": {
        "id": "ZmB37TbxKnsL"
      },
      "outputs": [],
      "source": [
        "import numpy as np\n",
        "import pandas as pd\n",
        "import matplotlib.pyplot as plt\n",
        "import IPython.display as ipd\n",
        "import librosa\n",
        "import librosa.display\n",
        "from sklearn.model_selection import train_test_split\n",
        "import os\n",
        "from keras.optimizers import Adam\n",
        "import tensorflow as tf\n",
        "import horovod.keras as hvd\n",
        "import time"
      ]
    },
    {
      "cell_type": "code",
      "source": [
        "hvd.init()"
      ],
      "metadata": {
        "id": "LWGn0wXvN9Sz"
      },
      "execution_count": null,
      "outputs": []
    },
    {
      "cell_type": "code",
      "source": [
        "config = tf.compat.v1.ConfigProto()\n",
        "config.gpu_options.visible_device_list = str(hvd.local_rank())\n",
        "tf.compat.v1.keras.backend.set_session(tf.compat.v1.Session(config=config))\n"
      ],
      "metadata": {
        "id": "oaTv9sCWP73K"
      },
      "execution_count": null,
      "outputs": []
    },
    {
      "cell_type": "code",
      "execution_count": null,
      "metadata": {
        "id": "1T21bNhJKpEp"
      },
      "outputs": [],
      "source": [
        "metadata = pd.read_csv('/content/drive/MyDrive/data/original.csv')"
      ]
    },
    {
      "cell_type": "code",
      "execution_count": null,
      "metadata": {
        "id": "M9WRPyzTKvSE",
        "colab": {
          "base_uri": "https://localhost:8080/",
          "height": 363
        },
        "outputId": "321221a6-12db-4d59-a535-5874a6542c64"
      },
      "outputs": [
        {
          "output_type": "execute_result",
          "data": {
            "text/plain": [
              "    participant                       filename  sound_prediction_score  \\\n",
              "0  CODA_TB_0001  1645088710003-recording-1.wav                0.990254   \n",
              "1  CODA_TB_0001  1645088760390-recording-1.wav                0.990272   \n",
              "2  CODA_TB_0001  1645088760830-recording-1.wav                0.990112   \n",
              "3  CODA_TB_0001  1645088710843-recording-1.wav                0.990152   \n",
              "4  CODA_TB_0001  1645088759950-recording-1.wav                0.990039   \n",
              "5  CODA_TB_0001  1645088758630-recording-1.wav                0.990004   \n",
              "6  CODA_TB_0001  1645088758230-recording-1.wav                0.975063   \n",
              "7  CODA_TB_0001  1645088738844-recording-1.wav                0.990068   \n",
              "8  CODA_TB_0001  1645088784942-recording-1.wav                0.990291   \n",
              "9  CODA_TB_0001  1645088784542-recording-1.wav                0.990288   \n",
              "\n",
              "   tb_status  \n",
              "0          0  \n",
              "1          0  \n",
              "2          0  \n",
              "3          0  \n",
              "4          0  \n",
              "5          0  \n",
              "6          0  \n",
              "7          0  \n",
              "8          0  \n",
              "9          0  "
            ],
            "text/html": [
              "\n",
              "\n",
              "  <div id=\"df-7f0432d3-be19-47fd-8618-04a9090e9ff5\">\n",
              "    <div class=\"colab-df-container\">\n",
              "      <div>\n",
              "<style scoped>\n",
              "    .dataframe tbody tr th:only-of-type {\n",
              "        vertical-align: middle;\n",
              "    }\n",
              "\n",
              "    .dataframe tbody tr th {\n",
              "        vertical-align: top;\n",
              "    }\n",
              "\n",
              "    .dataframe thead th {\n",
              "        text-align: right;\n",
              "    }\n",
              "</style>\n",
              "<table border=\"1\" class=\"dataframe\">\n",
              "  <thead>\n",
              "    <tr style=\"text-align: right;\">\n",
              "      <th></th>\n",
              "      <th>participant</th>\n",
              "      <th>filename</th>\n",
              "      <th>sound_prediction_score</th>\n",
              "      <th>tb_status</th>\n",
              "    </tr>\n",
              "  </thead>\n",
              "  <tbody>\n",
              "    <tr>\n",
              "      <th>0</th>\n",
              "      <td>CODA_TB_0001</td>\n",
              "      <td>1645088710003-recording-1.wav</td>\n",
              "      <td>0.990254</td>\n",
              "      <td>0</td>\n",
              "    </tr>\n",
              "    <tr>\n",
              "      <th>1</th>\n",
              "      <td>CODA_TB_0001</td>\n",
              "      <td>1645088760390-recording-1.wav</td>\n",
              "      <td>0.990272</td>\n",
              "      <td>0</td>\n",
              "    </tr>\n",
              "    <tr>\n",
              "      <th>2</th>\n",
              "      <td>CODA_TB_0001</td>\n",
              "      <td>1645088760830-recording-1.wav</td>\n",
              "      <td>0.990112</td>\n",
              "      <td>0</td>\n",
              "    </tr>\n",
              "    <tr>\n",
              "      <th>3</th>\n",
              "      <td>CODA_TB_0001</td>\n",
              "      <td>1645088710843-recording-1.wav</td>\n",
              "      <td>0.990152</td>\n",
              "      <td>0</td>\n",
              "    </tr>\n",
              "    <tr>\n",
              "      <th>4</th>\n",
              "      <td>CODA_TB_0001</td>\n",
              "      <td>1645088759950-recording-1.wav</td>\n",
              "      <td>0.990039</td>\n",
              "      <td>0</td>\n",
              "    </tr>\n",
              "    <tr>\n",
              "      <th>5</th>\n",
              "      <td>CODA_TB_0001</td>\n",
              "      <td>1645088758630-recording-1.wav</td>\n",
              "      <td>0.990004</td>\n",
              "      <td>0</td>\n",
              "    </tr>\n",
              "    <tr>\n",
              "      <th>6</th>\n",
              "      <td>CODA_TB_0001</td>\n",
              "      <td>1645088758230-recording-1.wav</td>\n",
              "      <td>0.975063</td>\n",
              "      <td>0</td>\n",
              "    </tr>\n",
              "    <tr>\n",
              "      <th>7</th>\n",
              "      <td>CODA_TB_0001</td>\n",
              "      <td>1645088738844-recording-1.wav</td>\n",
              "      <td>0.990068</td>\n",
              "      <td>0</td>\n",
              "    </tr>\n",
              "    <tr>\n",
              "      <th>8</th>\n",
              "      <td>CODA_TB_0001</td>\n",
              "      <td>1645088784942-recording-1.wav</td>\n",
              "      <td>0.990291</td>\n",
              "      <td>0</td>\n",
              "    </tr>\n",
              "    <tr>\n",
              "      <th>9</th>\n",
              "      <td>CODA_TB_0001</td>\n",
              "      <td>1645088784542-recording-1.wav</td>\n",
              "      <td>0.990288</td>\n",
              "      <td>0</td>\n",
              "    </tr>\n",
              "  </tbody>\n",
              "</table>\n",
              "</div>\n",
              "      <button class=\"colab-df-convert\" onclick=\"convertToInteractive('df-7f0432d3-be19-47fd-8618-04a9090e9ff5')\"\n",
              "              title=\"Convert this dataframe to an interactive table.\"\n",
              "              style=\"display:none;\">\n",
              "\n",
              "  <svg xmlns=\"http://www.w3.org/2000/svg\" height=\"24px\"viewBox=\"0 0 24 24\"\n",
              "       width=\"24px\">\n",
              "    <path d=\"M0 0h24v24H0V0z\" fill=\"none\"/>\n",
              "    <path d=\"M18.56 5.44l.94 2.06.94-2.06 2.06-.94-2.06-.94-.94-2.06-.94 2.06-2.06.94zm-11 1L8.5 8.5l.94-2.06 2.06-.94-2.06-.94L8.5 2.5l-.94 2.06-2.06.94zm10 10l.94 2.06.94-2.06 2.06-.94-2.06-.94-.94-2.06-.94 2.06-2.06.94z\"/><path d=\"M17.41 7.96l-1.37-1.37c-.4-.4-.92-.59-1.43-.59-.52 0-1.04.2-1.43.59L10.3 9.45l-7.72 7.72c-.78.78-.78 2.05 0 2.83L4 21.41c.39.39.9.59 1.41.59.51 0 1.02-.2 1.41-.59l7.78-7.78 2.81-2.81c.8-.78.8-2.07 0-2.86zM5.41 20L4 18.59l7.72-7.72 1.47 1.35L5.41 20z\"/>\n",
              "  </svg>\n",
              "      </button>\n",
              "\n",
              "\n",
              "\n",
              "    <div id=\"df-a8a5e0c5-fa41-4f01-8c16-e7aa6489730a\">\n",
              "      <button class=\"colab-df-quickchart\" onclick=\"quickchart('df-a8a5e0c5-fa41-4f01-8c16-e7aa6489730a')\"\n",
              "              title=\"Suggest charts.\"\n",
              "              style=\"display:none;\">\n",
              "\n",
              "<svg xmlns=\"http://www.w3.org/2000/svg\" height=\"24px\"viewBox=\"0 0 24 24\"\n",
              "     width=\"24px\">\n",
              "    <g>\n",
              "        <path d=\"M19 3H5c-1.1 0-2 .9-2 2v14c0 1.1.9 2 2 2h14c1.1 0 2-.9 2-2V5c0-1.1-.9-2-2-2zM9 17H7v-7h2v7zm4 0h-2V7h2v10zm4 0h-2v-4h2v4z\"/>\n",
              "    </g>\n",
              "</svg>\n",
              "      </button>\n",
              "    </div>\n",
              "\n",
              "<style>\n",
              "  .colab-df-quickchart {\n",
              "    background-color: #E8F0FE;\n",
              "    border: none;\n",
              "    border-radius: 50%;\n",
              "    cursor: pointer;\n",
              "    display: none;\n",
              "    fill: #1967D2;\n",
              "    height: 32px;\n",
              "    padding: 0 0 0 0;\n",
              "    width: 32px;\n",
              "  }\n",
              "\n",
              "  .colab-df-quickchart:hover {\n",
              "    background-color: #E2EBFA;\n",
              "    box-shadow: 0px 1px 2px rgba(60, 64, 67, 0.3), 0px 1px 3px 1px rgba(60, 64, 67, 0.15);\n",
              "    fill: #174EA6;\n",
              "  }\n",
              "\n",
              "  [theme=dark] .colab-df-quickchart {\n",
              "    background-color: #3B4455;\n",
              "    fill: #D2E3FC;\n",
              "  }\n",
              "\n",
              "  [theme=dark] .colab-df-quickchart:hover {\n",
              "    background-color: #434B5C;\n",
              "    box-shadow: 0px 1px 3px 1px rgba(0, 0, 0, 0.15);\n",
              "    filter: drop-shadow(0px 1px 2px rgba(0, 0, 0, 0.3));\n",
              "    fill: #FFFFFF;\n",
              "  }\n",
              "</style>\n",
              "\n",
              "    <script>\n",
              "      async function quickchart(key) {\n",
              "        const containerElement = document.querySelector('#' + key);\n",
              "        const charts = await google.colab.kernel.invokeFunction(\n",
              "            'suggestCharts', [key], {});\n",
              "      }\n",
              "    </script>\n",
              "\n",
              "      <script>\n",
              "\n",
              "function displayQuickchartButton(domScope) {\n",
              "  let quickchartButtonEl =\n",
              "    domScope.querySelector('#df-a8a5e0c5-fa41-4f01-8c16-e7aa6489730a button.colab-df-quickchart');\n",
              "  quickchartButtonEl.style.display =\n",
              "    google.colab.kernel.accessAllowed ? 'block' : 'none';\n",
              "}\n",
              "\n",
              "        displayQuickchartButton(document);\n",
              "      </script>\n",
              "      <style>\n",
              "    .colab-df-container {\n",
              "      display:flex;\n",
              "      flex-wrap:wrap;\n",
              "      gap: 12px;\n",
              "    }\n",
              "\n",
              "    .colab-df-convert {\n",
              "      background-color: #E8F0FE;\n",
              "      border: none;\n",
              "      border-radius: 50%;\n",
              "      cursor: pointer;\n",
              "      display: none;\n",
              "      fill: #1967D2;\n",
              "      height: 32px;\n",
              "      padding: 0 0 0 0;\n",
              "      width: 32px;\n",
              "    }\n",
              "\n",
              "    .colab-df-convert:hover {\n",
              "      background-color: #E2EBFA;\n",
              "      box-shadow: 0px 1px 2px rgba(60, 64, 67, 0.3), 0px 1px 3px 1px rgba(60, 64, 67, 0.15);\n",
              "      fill: #174EA6;\n",
              "    }\n",
              "\n",
              "    [theme=dark] .colab-df-convert {\n",
              "      background-color: #3B4455;\n",
              "      fill: #D2E3FC;\n",
              "    }\n",
              "\n",
              "    [theme=dark] .colab-df-convert:hover {\n",
              "      background-color: #434B5C;\n",
              "      box-shadow: 0px 1px 3px 1px rgba(0, 0, 0, 0.15);\n",
              "      filter: drop-shadow(0px 1px 2px rgba(0, 0, 0, 0.3));\n",
              "      fill: #FFFFFF;\n",
              "    }\n",
              "  </style>\n",
              "\n",
              "      <script>\n",
              "        const buttonEl =\n",
              "          document.querySelector('#df-7f0432d3-be19-47fd-8618-04a9090e9ff5 button.colab-df-convert');\n",
              "        buttonEl.style.display =\n",
              "          google.colab.kernel.accessAllowed ? 'block' : 'none';\n",
              "\n",
              "        async function convertToInteractive(key) {\n",
              "          const element = document.querySelector('#df-7f0432d3-be19-47fd-8618-04a9090e9ff5');\n",
              "          const dataTable =\n",
              "            await google.colab.kernel.invokeFunction('convertToInteractive',\n",
              "                                                     [key], {});\n",
              "          if (!dataTable) return;\n",
              "\n",
              "          const docLinkHtml = 'Like what you see? Visit the ' +\n",
              "            '<a target=\"_blank\" href=https://colab.research.google.com/notebooks/data_table.ipynb>data table notebook</a>'\n",
              "            + ' to learn more about interactive tables.';\n",
              "          element.innerHTML = '';\n",
              "          dataTable['output_type'] = 'display_data';\n",
              "          await google.colab.output.renderOutput(dataTable, element);\n",
              "          const docLink = document.createElement('div');\n",
              "          docLink.innerHTML = docLinkHtml;\n",
              "          element.appendChild(docLink);\n",
              "        }\n",
              "      </script>\n",
              "    </div>\n",
              "  </div>\n"
            ]
          },
          "metadata": {},
          "execution_count": 7
        }
      ],
      "source": [
        "metadata.head(10)\n"
      ]
    },
    {
      "cell_type": "code",
      "execution_count": null,
      "metadata": {
        "id": "pBU23UurKxiN",
        "colab": {
          "base_uri": "https://localhost:8080/"
        },
        "outputId": "722febe5-4aed-4830-eead-7cc7a10948a5"
      },
      "outputs": [
        {
          "output_type": "execute_result",
          "data": {
            "text/plain": [
              "0    13684\n",
              "1    13684\n",
              "Name: tb_status, dtype: int64"
            ]
          },
          "metadata": {},
          "execution_count": 8
        }
      ],
      "source": [
        "metadata['tb_status'].value_counts()"
      ]
    },
    {
      "cell_type": "code",
      "execution_count": null,
      "metadata": {
        "id": "5aJ7E7TsK1jb",
        "colab": {
          "base_uri": "https://localhost:8080/"
        },
        "outputId": "d72416dc-b7b5-4a97-da9d-30965868c50c"
      },
      "outputs": [
        {
          "output_type": "stream",
          "name": "stdout",
          "text": [
            "<class 'pandas.core.frame.DataFrame'>\n",
            "RangeIndex: 27368 entries, 0 to 27367\n",
            "Data columns (total 4 columns):\n",
            " #   Column                  Non-Null Count  Dtype  \n",
            "---  ------                  --------------  -----  \n",
            " 0   participant             27368 non-null  object \n",
            " 1   filename                27368 non-null  object \n",
            " 2   sound_prediction_score  27368 non-null  float64\n",
            " 3   tb_status               27368 non-null  int64  \n",
            "dtypes: float64(1), int64(1), object(2)\n",
            "memory usage: 855.4+ KB\n"
          ]
        }
      ],
      "source": [
        "metadata.info()"
      ]
    },
    {
      "cell_type": "code",
      "execution_count": null,
      "metadata": {
        "id": "er5x15avK37r"
      },
      "outputs": [],
      "source": [
        "# audio_dataset_path = 'time/'\n",
        "# audio_dataset_path = '/content/drive/MyDrive/data/time'"
      ]
    },
    {
      "cell_type": "code",
      "execution_count": null,
      "metadata": {
        "id": "pe4j2cvQK7Wz"
      },
      "outputs": [],
      "source": [
        "import json\n",
        "\n",
        "# Specify the path to the JSON file\n",
        "input_file_path = '/content/drive/MyDrive/data/extracted_features.json'\n",
        "\n",
        "# Read the JSON file\n",
        "with open(input_file_path, 'r') as json_file:\n",
        "    data = json.load(json_file)\n",
        "\n",
        "# Extract the 'extracted_features' list from the loaded data\n",
        "extracted_features = data['extracted_features']"
      ]
    },
    {
      "cell_type": "code",
      "execution_count": null,
      "metadata": {
        "id": "8skOLYNCK-fF",
        "colab": {
          "base_uri": "https://localhost:8080/",
          "height": 206
        },
        "outputId": "79c58a6b-2c8f-4fbe-a29a-b828a25b240e"
      },
      "outputs": [
        {
          "output_type": "execute_result",
          "data": {
            "text/plain": [
              "                                             feature  tb_status\n",
              "0  [-233.81036376953125, 60.20777893066406, 13.18...          0\n",
              "1  [-227.28358459472656, 66.78350067138672, 26.54...          0\n",
              "2  [-291.9474182128906, 61.16533279418945, 36.864...          0\n",
              "3  [-322.38006591796875, 53.53618240356445, 30.72...          0\n",
              "4  [-215.52008056640625, 58.504398345947266, 26.0...          0"
            ],
            "text/html": [
              "\n",
              "\n",
              "  <div id=\"df-ab71522a-1c0e-4fd6-9527-50a006d790cb\">\n",
              "    <div class=\"colab-df-container\">\n",
              "      <div>\n",
              "<style scoped>\n",
              "    .dataframe tbody tr th:only-of-type {\n",
              "        vertical-align: middle;\n",
              "    }\n",
              "\n",
              "    .dataframe tbody tr th {\n",
              "        vertical-align: top;\n",
              "    }\n",
              "\n",
              "    .dataframe thead th {\n",
              "        text-align: right;\n",
              "    }\n",
              "</style>\n",
              "<table border=\"1\" class=\"dataframe\">\n",
              "  <thead>\n",
              "    <tr style=\"text-align: right;\">\n",
              "      <th></th>\n",
              "      <th>feature</th>\n",
              "      <th>tb_status</th>\n",
              "    </tr>\n",
              "  </thead>\n",
              "  <tbody>\n",
              "    <tr>\n",
              "      <th>0</th>\n",
              "      <td>[-233.81036376953125, 60.20777893066406, 13.18...</td>\n",
              "      <td>0</td>\n",
              "    </tr>\n",
              "    <tr>\n",
              "      <th>1</th>\n",
              "      <td>[-227.28358459472656, 66.78350067138672, 26.54...</td>\n",
              "      <td>0</td>\n",
              "    </tr>\n",
              "    <tr>\n",
              "      <th>2</th>\n",
              "      <td>[-291.9474182128906, 61.16533279418945, 36.864...</td>\n",
              "      <td>0</td>\n",
              "    </tr>\n",
              "    <tr>\n",
              "      <th>3</th>\n",
              "      <td>[-322.38006591796875, 53.53618240356445, 30.72...</td>\n",
              "      <td>0</td>\n",
              "    </tr>\n",
              "    <tr>\n",
              "      <th>4</th>\n",
              "      <td>[-215.52008056640625, 58.504398345947266, 26.0...</td>\n",
              "      <td>0</td>\n",
              "    </tr>\n",
              "  </tbody>\n",
              "</table>\n",
              "</div>\n",
              "      <button class=\"colab-df-convert\" onclick=\"convertToInteractive('df-ab71522a-1c0e-4fd6-9527-50a006d790cb')\"\n",
              "              title=\"Convert this dataframe to an interactive table.\"\n",
              "              style=\"display:none;\">\n",
              "\n",
              "  <svg xmlns=\"http://www.w3.org/2000/svg\" height=\"24px\"viewBox=\"0 0 24 24\"\n",
              "       width=\"24px\">\n",
              "    <path d=\"M0 0h24v24H0V0z\" fill=\"none\"/>\n",
              "    <path d=\"M18.56 5.44l.94 2.06.94-2.06 2.06-.94-2.06-.94-.94-2.06-.94 2.06-2.06.94zm-11 1L8.5 8.5l.94-2.06 2.06-.94-2.06-.94L8.5 2.5l-.94 2.06-2.06.94zm10 10l.94 2.06.94-2.06 2.06-.94-2.06-.94-.94-2.06-.94 2.06-2.06.94z\"/><path d=\"M17.41 7.96l-1.37-1.37c-.4-.4-.92-.59-1.43-.59-.52 0-1.04.2-1.43.59L10.3 9.45l-7.72 7.72c-.78.78-.78 2.05 0 2.83L4 21.41c.39.39.9.59 1.41.59.51 0 1.02-.2 1.41-.59l7.78-7.78 2.81-2.81c.8-.78.8-2.07 0-2.86zM5.41 20L4 18.59l7.72-7.72 1.47 1.35L5.41 20z\"/>\n",
              "  </svg>\n",
              "      </button>\n",
              "\n",
              "\n",
              "\n",
              "    <div id=\"df-7e9bbd08-1389-4f60-bb5a-cea814b52c7d\">\n",
              "      <button class=\"colab-df-quickchart\" onclick=\"quickchart('df-7e9bbd08-1389-4f60-bb5a-cea814b52c7d')\"\n",
              "              title=\"Suggest charts.\"\n",
              "              style=\"display:none;\">\n",
              "\n",
              "<svg xmlns=\"http://www.w3.org/2000/svg\" height=\"24px\"viewBox=\"0 0 24 24\"\n",
              "     width=\"24px\">\n",
              "    <g>\n",
              "        <path d=\"M19 3H5c-1.1 0-2 .9-2 2v14c0 1.1.9 2 2 2h14c1.1 0 2-.9 2-2V5c0-1.1-.9-2-2-2zM9 17H7v-7h2v7zm4 0h-2V7h2v10zm4 0h-2v-4h2v4z\"/>\n",
              "    </g>\n",
              "</svg>\n",
              "      </button>\n",
              "    </div>\n",
              "\n",
              "<style>\n",
              "  .colab-df-quickchart {\n",
              "    background-color: #E8F0FE;\n",
              "    border: none;\n",
              "    border-radius: 50%;\n",
              "    cursor: pointer;\n",
              "    display: none;\n",
              "    fill: #1967D2;\n",
              "    height: 32px;\n",
              "    padding: 0 0 0 0;\n",
              "    width: 32px;\n",
              "  }\n",
              "\n",
              "  .colab-df-quickchart:hover {\n",
              "    background-color: #E2EBFA;\n",
              "    box-shadow: 0px 1px 2px rgba(60, 64, 67, 0.3), 0px 1px 3px 1px rgba(60, 64, 67, 0.15);\n",
              "    fill: #174EA6;\n",
              "  }\n",
              "\n",
              "  [theme=dark] .colab-df-quickchart {\n",
              "    background-color: #3B4455;\n",
              "    fill: #D2E3FC;\n",
              "  }\n",
              "\n",
              "  [theme=dark] .colab-df-quickchart:hover {\n",
              "    background-color: #434B5C;\n",
              "    box-shadow: 0px 1px 3px 1px rgba(0, 0, 0, 0.15);\n",
              "    filter: drop-shadow(0px 1px 2px rgba(0, 0, 0, 0.3));\n",
              "    fill: #FFFFFF;\n",
              "  }\n",
              "</style>\n",
              "\n",
              "    <script>\n",
              "      async function quickchart(key) {\n",
              "        const containerElement = document.querySelector('#' + key);\n",
              "        const charts = await google.colab.kernel.invokeFunction(\n",
              "            'suggestCharts', [key], {});\n",
              "      }\n",
              "    </script>\n",
              "\n",
              "      <script>\n",
              "\n",
              "function displayQuickchartButton(domScope) {\n",
              "  let quickchartButtonEl =\n",
              "    domScope.querySelector('#df-7e9bbd08-1389-4f60-bb5a-cea814b52c7d button.colab-df-quickchart');\n",
              "  quickchartButtonEl.style.display =\n",
              "    google.colab.kernel.accessAllowed ? 'block' : 'none';\n",
              "}\n",
              "\n",
              "        displayQuickchartButton(document);\n",
              "      </script>\n",
              "      <style>\n",
              "    .colab-df-container {\n",
              "      display:flex;\n",
              "      flex-wrap:wrap;\n",
              "      gap: 12px;\n",
              "    }\n",
              "\n",
              "    .colab-df-convert {\n",
              "      background-color: #E8F0FE;\n",
              "      border: none;\n",
              "      border-radius: 50%;\n",
              "      cursor: pointer;\n",
              "      display: none;\n",
              "      fill: #1967D2;\n",
              "      height: 32px;\n",
              "      padding: 0 0 0 0;\n",
              "      width: 32px;\n",
              "    }\n",
              "\n",
              "    .colab-df-convert:hover {\n",
              "      background-color: #E2EBFA;\n",
              "      box-shadow: 0px 1px 2px rgba(60, 64, 67, 0.3), 0px 1px 3px 1px rgba(60, 64, 67, 0.15);\n",
              "      fill: #174EA6;\n",
              "    }\n",
              "\n",
              "    [theme=dark] .colab-df-convert {\n",
              "      background-color: #3B4455;\n",
              "      fill: #D2E3FC;\n",
              "    }\n",
              "\n",
              "    [theme=dark] .colab-df-convert:hover {\n",
              "      background-color: #434B5C;\n",
              "      box-shadow: 0px 1px 3px 1px rgba(0, 0, 0, 0.15);\n",
              "      filter: drop-shadow(0px 1px 2px rgba(0, 0, 0, 0.3));\n",
              "      fill: #FFFFFF;\n",
              "    }\n",
              "  </style>\n",
              "\n",
              "      <script>\n",
              "        const buttonEl =\n",
              "          document.querySelector('#df-ab71522a-1c0e-4fd6-9527-50a006d790cb button.colab-df-convert');\n",
              "        buttonEl.style.display =\n",
              "          google.colab.kernel.accessAllowed ? 'block' : 'none';\n",
              "\n",
              "        async function convertToInteractive(key) {\n",
              "          const element = document.querySelector('#df-ab71522a-1c0e-4fd6-9527-50a006d790cb');\n",
              "          const dataTable =\n",
              "            await google.colab.kernel.invokeFunction('convertToInteractive',\n",
              "                                                     [key], {});\n",
              "          if (!dataTable) return;\n",
              "\n",
              "          const docLinkHtml = 'Like what you see? Visit the ' +\n",
              "            '<a target=\"_blank\" href=https://colab.research.google.com/notebooks/data_table.ipynb>data table notebook</a>'\n",
              "            + ' to learn more about interactive tables.';\n",
              "          element.innerHTML = '';\n",
              "          dataTable['output_type'] = 'display_data';\n",
              "          await google.colab.output.renderOutput(dataTable, element);\n",
              "          const docLink = document.createElement('div');\n",
              "          docLink.innerHTML = docLinkHtml;\n",
              "          element.appendChild(docLink);\n",
              "        }\n",
              "      </script>\n",
              "    </div>\n",
              "  </div>\n"
            ]
          },
          "metadata": {},
          "execution_count": 12
        }
      ],
      "source": [
        "extracted_features_df = pd.DataFrame(extracted_features, columns = ['feature', 'tb_status'])\n",
        "extracted_features_df.head()"
      ]
    },
    {
      "cell_type": "code",
      "execution_count": null,
      "metadata": {
        "id": "i3tRWyKYRRBb"
      },
      "outputs": [],
      "source": [
        "X = np.array(extracted_features_df['feature'].tolist())\n",
        "y = np.array(extracted_features_df['tb_status'].tolist())"
      ]
    },
    {
      "cell_type": "code",
      "source": [
        "X.shape\n"
      ],
      "metadata": {
        "id": "JQ1NoCbYHfck",
        "colab": {
          "base_uri": "https://localhost:8080/"
        },
        "outputId": "ee595381-aa76-4b2c-d198-98108afe4d1d"
      },
      "execution_count": null,
      "outputs": [
        {
          "output_type": "execute_result",
          "data": {
            "text/plain": [
              "(27368, 40)"
            ]
          },
          "metadata": {},
          "execution_count": 14
        }
      ]
    },
    {
      "cell_type": "code",
      "source": [
        "y.shape"
      ],
      "metadata": {
        "id": "1czrFIFmHien",
        "colab": {
          "base_uri": "https://localhost:8080/"
        },
        "outputId": "2fdbc5f6-863f-4021-ee34-8276635f0fc5"
      },
      "execution_count": null,
      "outputs": [
        {
          "output_type": "execute_result",
          "data": {
            "text/plain": [
              "(27368,)"
            ]
          },
          "metadata": {},
          "execution_count": 15
        }
      ]
    },
    {
      "cell_type": "code",
      "source": [
        "from tensorflow.keras.utils import to_categorical\n",
        "from sklearn.preprocessing import LabelEncoder\n",
        "labelencoder = LabelEncoder()\n",
        "y = to_categorical(y, num_classes = 2)"
      ],
      "metadata": {
        "id": "vzpFYReAHlJS"
      },
      "execution_count": null,
      "outputs": []
    },
    {
      "cell_type": "code",
      "source": [
        "y.shape"
      ],
      "metadata": {
        "id": "puJww_eiHqut",
        "colab": {
          "base_uri": "https://localhost:8080/"
        },
        "outputId": "236d1c5f-564e-450e-ca07-0eab3b59f58a"
      },
      "execution_count": null,
      "outputs": [
        {
          "output_type": "execute_result",
          "data": {
            "text/plain": [
              "(27368, 2)"
            ]
          },
          "metadata": {},
          "execution_count": 17
        }
      ]
    },
    {
      "cell_type": "code",
      "source": [
        "from sklearn.model_selection import train_test_split\n",
        "X_train, X_test, y_train, y_test = train_test_split(X, y, test_size = 0.2, random_state = 0)"
      ],
      "metadata": {
        "id": "bndndZS2Hv9L"
      },
      "execution_count": null,
      "outputs": []
    },
    {
      "cell_type": "code",
      "source": [
        "print(X_train.shape, \" \", X_test.shape)\n",
        "print(y_train.shape, \" \", y_test.shape)"
      ],
      "metadata": {
        "id": "3HihqVypHxSE",
        "colab": {
          "base_uri": "https://localhost:8080/"
        },
        "outputId": "181fc5e8-865e-4064-be8d-cf00ac8315e6"
      },
      "execution_count": null,
      "outputs": [
        {
          "output_type": "stream",
          "name": "stdout",
          "text": [
            "(21894, 40)   (5474, 40)\n",
            "(21894, 2)   (5474, 2)\n"
          ]
        }
      ]
    },
    {
      "cell_type": "code",
      "source": [
        "X_train = X_train.reshape(X_train.shape[0], 8, 5, 1)\n",
        "X_test = X_test.reshape(X_test.shape[0], 8, 5, 1)\n",
        "print(X_train.shape, \" \", X_test.shape)"
      ],
      "metadata": {
        "id": "t6mGXFURH4fs",
        "colab": {
          "base_uri": "https://localhost:8080/"
        },
        "outputId": "e7313186-7f38-454a-bc3c-b819a9ffa39c"
      },
      "execution_count": null,
      "outputs": [
        {
          "output_type": "stream",
          "name": "stdout",
          "text": [
            "(21894, 8, 5, 1)   (5474, 8, 5, 1)\n"
          ]
        }
      ]
    },
    {
      "cell_type": "code",
      "source": [
        "input_dim = (8, 5, 1)"
      ],
      "metadata": {
        "id": "AuQUWfJUH7e7"
      },
      "execution_count": null,
      "outputs": []
    },
    {
      "cell_type": "code",
      "source": [
        "from tensorflow.keras.models import Sequential\n",
        "from tensorflow.keras.layers import Conv2D, Flatten, Dense, MaxPooling2D, Dropout\n",
        "from tensorflow.keras.utils import to_categorical"
      ],
      "metadata": {
        "id": "lSOpfA4aH9_z"
      },
      "execution_count": null,
      "outputs": []
    },
    {
      "cell_type": "code",
      "source": [
        "model = Sequential()\n",
        "\n",
        "model.add(Conv2D(32, (2, 2), activation='relu', input_shape = input_dim))\n",
        "model.add(MaxPooling2D((1, 1)))\n",
        "\n",
        "model.add(Conv2D(64, (2, 2), activation='relu'))\n",
        "model.add(MaxPooling2D((1, 1)))\n",
        "\n",
        "model.add(Conv2D(128, (2, 2), activation='relu'))\n",
        "model.add(MaxPooling2D((1, 1)))\n",
        "\n",
        "model.add(Flatten())\n",
        "model.add(Dense(512, activation='relu'))\n",
        "\n",
        "model.add(Dropout(0.2))\n",
        "model.add(Dense(2, activation='softmax'))"
      ],
      "metadata": {
        "id": "2QuwLNOIIBp-"
      },
      "execution_count": null,
      "outputs": []
    },
    {
      "cell_type": "code",
      "source": [
        "model.summary()"
      ],
      "metadata": {
        "id": "-lmsfl72IHJQ",
        "colab": {
          "base_uri": "https://localhost:8080/"
        },
        "outputId": "04cfcdff-e77c-4363-af13-730d67b74703"
      },
      "execution_count": null,
      "outputs": [
        {
          "output_type": "stream",
          "name": "stdout",
          "text": [
            "Model: \"sequential\"\n",
            "_________________________________________________________________\n",
            " Layer (type)                Output Shape              Param #   \n",
            "=================================================================\n",
            " conv2d (Conv2D)             (None, 7, 4, 32)          160       \n",
            "                                                                 \n",
            " max_pooling2d (MaxPooling2D  (None, 7, 4, 32)         0         \n",
            " )                                                               \n",
            "                                                                 \n",
            " conv2d_1 (Conv2D)           (None, 6, 3, 64)          8256      \n",
            "                                                                 \n",
            " max_pooling2d_1 (MaxPooling  (None, 6, 3, 64)         0         \n",
            " 2D)                                                             \n",
            "                                                                 \n",
            " conv2d_2 (Conv2D)           (None, 5, 2, 128)         32896     \n",
            "                                                                 \n",
            " max_pooling2d_2 (MaxPooling  (None, 5, 2, 128)        0         \n",
            " 2D)                                                             \n",
            "                                                                 \n",
            " flatten (Flatten)           (None, 1280)              0         \n",
            "                                                                 \n",
            " dense (Dense)               (None, 512)               655872    \n",
            "                                                                 \n",
            " dropout (Dropout)           (None, 512)               0         \n",
            "                                                                 \n",
            " dense_1 (Dense)             (None, 2)                 1026      \n",
            "                                                                 \n",
            "=================================================================\n",
            "Total params: 698,210\n",
            "Trainable params: 698,210\n",
            "Non-trainable params: 0\n",
            "_________________________________________________________________\n"
          ]
        }
      ]
    },
    {
      "cell_type": "code",
      "source": [
        "optimizer = tf.keras.optimizers.Adam()\n",
        "\n",
        "# Wrap the optimizer with Horovod\n",
        "optimizer = hvd.DistributedOptimizer(optimizer)"
      ],
      "metadata": {
        "id": "F-YNrt4lJCi7"
      },
      "execution_count": null,
      "outputs": []
    },
    {
      "cell_type": "code",
      "source": [
        "model.compile(optimizer = optimizer, loss = 'binary_crossentropy', metrics = ['accuracy'])"
      ],
      "metadata": {
        "id": "fSe3SJfgJOK3"
      },
      "execution_count": null,
      "outputs": []
    },
    {
      "cell_type": "code",
      "source": [
        "callbacks = [\n",
        "    hvd.callbacks.BroadcastGlobalVariablesCallback(0),\n",
        "    hvd.callbacks.MetricAverageCallback(),\n",
        "    hvd.callbacks.LearningRateWarmupCallback(\n",
        "        warmup_epochs=5,\n",
        "        initial_lr=0.001,\n",
        "        verbose=1\n",
        "    ),\n",
        "]\n",
        "\n",
        "\n"
      ],
      "metadata": {
        "id": "dXIwo4sYJHjx"
      },
      "execution_count": null,
      "outputs": []
    },
    {
      "cell_type": "code",
      "source": [
        "start_time = time.time()\n",
        "\n",
        "model.fit(\n",
        "    X_train, y_train,\n",
        "    batch_size=32,\n",
        "    callbacks=callbacks,\n",
        "    epochs=20,\n",
        "    verbose=1 if hvd.rank() == 0 else 0\n",
        ")\n",
        "end_time = time.time()\n",
        "total_duration = end_time - start_time"
      ],
      "metadata": {
        "id": "QRooO4TVJnL8",
        "colab": {
          "base_uri": "https://localhost:8080/"
        },
        "outputId": "7f8ff98a-cc43-4647-f9a2-68b91492c942"
      },
      "execution_count": null,
      "outputs": [
        {
          "output_type": "stream",
          "name": "stdout",
          "text": [
            "Epoch 1/20\n",
            "685/685 [==============================] - 4s 6ms/step - loss: 0.0143 - accuracy: 0.9951 - lr: 0.0010\n",
            "Epoch 2/20\n",
            "685/685 [==============================] - 4s 5ms/step - loss: 0.0302 - accuracy: 0.9916 - lr: 0.0010\n",
            "Epoch 3/20\n",
            "685/685 [==============================] - 4s 6ms/step - loss: 0.0224 - accuracy: 0.9932 - lr: 0.0010\n",
            "Epoch 4/20\n",
            "685/685 [==============================] - 4s 6ms/step - loss: 0.0195 - accuracy: 0.9943 - lr: 0.0010\n",
            "Epoch 5/20\n",
            "678/685 [============================>.] - ETA: 0s - loss: 0.0338 - accuracy: 0.9902\n",
            "Epoch 5: finished gradual learning rate warmup to 0.001.\n",
            "685/685 [==============================] - 4s 5ms/step - loss: 0.0338 - accuracy: 0.9902 - lr: 0.0010\n",
            "Epoch 6/20\n",
            "685/685 [==============================] - 3s 4ms/step - loss: 0.0178 - accuracy: 0.9943 - lr: 0.0010\n",
            "Epoch 7/20\n",
            "685/685 [==============================] - 4s 5ms/step - loss: 0.0209 - accuracy: 0.9945 - lr: 0.0010\n",
            "Epoch 8/20\n",
            "685/685 [==============================] - 4s 5ms/step - loss: 0.0366 - accuracy: 0.9910 - lr: 0.0010\n",
            "Epoch 9/20\n",
            "685/685 [==============================] - 3s 5ms/step - loss: 0.0264 - accuracy: 0.9923 - lr: 0.0010\n",
            "Epoch 10/20\n",
            "685/685 [==============================] - 3s 5ms/step - loss: 0.0233 - accuracy: 0.9937 - lr: 0.0010\n",
            "Epoch 11/20\n",
            "685/685 [==============================] - 4s 5ms/step - loss: 0.0199 - accuracy: 0.9942 - lr: 0.0010\n",
            "Epoch 12/20\n",
            "685/685 [==============================] - 4s 5ms/step - loss: 0.0262 - accuracy: 0.9928 - lr: 0.0010\n",
            "Epoch 13/20\n",
            "685/685 [==============================] - 3s 5ms/step - loss: 0.0215 - accuracy: 0.9938 - lr: 0.0010\n",
            "Epoch 14/20\n",
            "685/685 [==============================] - 3s 4ms/step - loss: 0.0143 - accuracy: 0.9959 - lr: 0.0010\n",
            "Epoch 15/20\n",
            "685/685 [==============================] - 4s 6ms/step - loss: 0.0283 - accuracy: 0.9929 - lr: 0.0010\n",
            "Epoch 16/20\n",
            "685/685 [==============================] - 4s 5ms/step - loss: 0.0190 - accuracy: 0.9946 - lr: 0.0010\n",
            "Epoch 17/20\n",
            "685/685 [==============================] - 3s 5ms/step - loss: 0.0298 - accuracy: 0.9925 - lr: 0.0010\n",
            "Epoch 18/20\n",
            "685/685 [==============================] - 3s 4ms/step - loss: 0.0254 - accuracy: 0.9928 - lr: 0.0010\n",
            "Epoch 19/20\n",
            "685/685 [==============================] - 3s 5ms/step - loss: 0.0197 - accuracy: 0.9946 - lr: 0.0010\n",
            "Epoch 20/20\n",
            "685/685 [==============================] - 4s 6ms/step - loss: 0.0126 - accuracy: 0.9962 - lr: 0.0010\n"
          ]
        }
      ]
    },
    {
      "cell_type": "code",
      "source": [
        "train_loss, train_acc = model.evaluate(X_train, y_train, verbose=0)\n",
        "print(f'Train Loss: {train_loss:.4f}')\n",
        "print(f'Train Accuracy: {train_acc:.4f}')\n",
        "\n",
        "print(f'Total Training Duration using GPU : {total_duration:.2f} seconds')\n",
        "\n",
        "test_loss, test_acc = model.evaluate(X_test, y_test, verbose=0)\n",
        "print(f'Test Loss: {test_loss:.4f}')\n",
        "print(f'Test Accuracy: {test_acc:.4f}')\n",
        "\n"
      ],
      "metadata": {
        "id": "OHmklvLCQtHK",
        "colab": {
          "base_uri": "https://localhost:8080/"
        },
        "outputId": "d1b64cb3-09f2-4475-cfc5-189aa35524a7"
      },
      "execution_count": null,
      "outputs": [
        {
          "output_type": "stream",
          "name": "stdout",
          "text": [
            "Train Loss: 0.0016\n",
            "Train Accuracy: 0.9996\n",
            "Total Training Duration using GPU : 82.04 seconds\n",
            "Test Loss: 0.2086\n",
            "Test Accuracy: 0.9682\n"
          ]
        }
      ]
    },
    {
      "cell_type": "code",
      "source": [],
      "metadata": {
        "id": "TlAN589OP1GJ"
      },
      "execution_count": null,
      "outputs": []
    }
  ],
  "metadata": {
    "accelerator": "GPU",
    "colab": {
      "provenance": []
    },
    "kernelspec": {
      "display_name": "Python 3",
      "name": "python3"
    },
    "language_info": {
      "name": "python"
    }
  },
  "nbformat": 4,
  "nbformat_minor": 0
}